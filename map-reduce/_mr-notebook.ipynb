{
 "cells": [
  {
   "cell_type": "code",
   "execution_count": 1,
   "metadata": {},
   "outputs": [
    {
     "name": "stdout",
     "output_type": "stream",
     "text": [
      "\"action\"\t1145\n",
      "\"animation\"\t691\n",
      "\"comedy\"\t2301\n",
      "\"crime\"\t934\n",
      "\"documentation\"\t949\n",
      "\"drama\"\t2934\n",
      "\"european\"\t438\n",
      "\"family\"\t669\n",
      "\"fantasy\"\t620\n",
      "\"history\"\t253\n",
      "\"horror\"\t377\n",
      "\"music\"\t258\n",
      "\"reality\"\t231\n",
      "\"romance\"\t959\n",
      "\"scifi\"\t578\n",
      "\"sport\"\t170\n",
      "\"thriller\"\t1226\n",
      "\"war\"\t162\n",
      "\"western\"\t40\n",
      "\n"
     ]
    }
   ],
   "source": [
    "import subprocess\n",
    "\n",
    "result = str(subprocess.run([\"python\", \"map_reduce.py\", \"df_netflix.csv\"], capture_output=True).stdout.decode('unicode-escape'))\n",
    "print(result)"
   ]
  }
 ],
 "metadata": {
  "kernelspec": {
   "display_name": "Python 3",
   "language": "python",
   "name": "python3"
  },
  "language_info": {
   "codemirror_mode": {
    "name": "ipython",
    "version": 3
   },
   "file_extension": ".py",
   "mimetype": "text/x-python",
   "name": "python",
   "nbconvert_exporter": "python",
   "pygments_lexer": "ipython3",
   "version": "3.11.0"
  },
  "orig_nbformat": 4,
  "vscode": {
   "interpreter": {
    "hash": "afefc1c1cec87fc13f2a9aed41404bd04a9b15c75e1e449c90d8920987b76e14"
   }
  }
 },
 "nbformat": 4,
 "nbformat_minor": 2
}
